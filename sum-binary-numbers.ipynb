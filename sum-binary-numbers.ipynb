{
 "cells": [
  {
   "cell_type": "code",
   "execution_count": 1,
   "metadata": {
    "collapsed": true
   },
   "outputs": [],
   "source": [
    "import numpy as np\n",
    "import tensorflow as tf\n",
    "\n",
    "# to make this notebook's output stable across runs\n",
    "def reset_graph(seed=42):\n",
    "    tf.reset_default_graph()\n",
    "    tf.set_random_seed(seed)\n",
    "    np.random.seed(seed)"
   ]
  },
  {
   "cell_type": "code",
   "execution_count": 8,
   "metadata": {
    "collapsed": true
   },
   "outputs": [],
   "source": [
    "def reformat(tens):\n",
    "    return tens[0].T[0]"
   ]
  },
  {
   "cell_type": "code",
   "execution_count": 2,
   "metadata": {
    "collapsed": true
   },
   "outputs": [],
   "source": [
    "def int2bin(i, length=10):\n",
    "    b = bin(i)[2:].zfill(length)\n",
    "    b_lst = [int(i) for i in b]\n",
    "    b_lst.reverse()\n",
    "    return np.array(b_lst)\n",
    "#     return np.array([int(i) for i in b])\n",
    "#     return np.array([int(i) for i in b])\n",
    "\n",
    "def bin2in(s):\n",
    "    return int(s, 2)"
   ]
  },
  {
   "cell_type": "code",
   "execution_count": 5,
   "metadata": {
    "collapsed": true
   },
   "outputs": [],
   "source": [
    "def gen_data():\n",
    "    max_val = 100\n",
    "    A = np.random.randint(max_val)\n",
    "    B = np.random.randint(max_val)\n",
    "    C = A+B\n",
    "    Ab = int2bin(A)\n",
    "    Bb = int2bin(B)\n",
    "    Cb = int2bin(C)\n",
    "        \n",
    "    X_batch = None\n",
    "    X_batch = np.vstack((Ab, Bb)).T\n",
    "    X_batch = X_batch[np.newaxis, :]\n",
    "    y_batch = Cb[np.newaxis, :, np.newaxis]\n",
    "    \n",
    "    return X_batch, y_batch\n",
    "\n",
    "def gen_data_batch(length):\n",
    "    bin_len = 10\n",
    "    \n",
    "    A_lst = [int(i) for i in list(np.random.rand(length)*100)]\n",
    "    B_lst = [int(i) for i in list(np.random.rand(length)*100)]\n",
    "    C_lst = []\n",
    "    \n",
    "    X = np.zeros((length, bin_len, 2))\n",
    "    Y = np.zeros((length, bin_len, 1))\n",
    "    \n",
    "    for idx, (a, b) in enumerate(zip(A_lst, B_lst)):\n",
    "        c = a+b\n",
    "        \n",
    "        Ab = int2bin(a, bin_len)\n",
    "        Bb = int2bin(b, bin_len)\n",
    "        Cb = int2bin(c, bin_len)\n",
    "        \n",
    "        X[idx] = np.vstack((Ab, Bb)).T\n",
    "        Y[idx] = Cb[:, np.newaxis]\n",
    "        \n",
    "    return X, Y"
   ]
  },
  {
   "cell_type": "code",
   "execution_count": 54,
   "metadata": {
    "collapsed": true
   },
   "outputs": [],
   "source": [
    "reset_graph()\n",
    "\n",
    "n_steps   = 10\n",
    "n_inputs  = 2\n",
    "n_outputs = 1\n",
    "n_neurons = 2\n",
    "\n",
    "X = tf.placeholder(tf.float32, [None, n_steps, n_inputs])\n",
    "y = tf.placeholder(tf.float32, [None, n_steps, n_outputs])\n",
    "\n",
    "cell = tf.contrib.rnn.OutputProjectionWrapper(\n",
    "    tf.contrib.rnn.BasicLSTMCell(num_units=n_neurons, activation=tf.nn.relu),\n",
    "    output_size=n_outputs)\n",
    "outputs, states = tf.nn.dynamic_rnn(cell, X, dtype=tf.float32)\n",
    "\n",
    "sm = outputs\n",
    "# sm = tf.nn.sigmoid(outputs)\n",
    "\n",
    "init = tf.global_variables_initializer()"
   ]
  },
  {
   "cell_type": "code",
   "execution_count": 55,
   "metadata": {
    "collapsed": true
   },
   "outputs": [],
   "source": [
    "# learning_rate = 0.0001\n",
    "learning_rate = 0.01\n",
    "\n",
    "loss = tf.reduce_mean(tf.square(sm-y))\n",
    "optimizer = tf.train.AdamOptimizer(learning_rate=learning_rate)\n",
    "training_op = optimizer.minimize(loss)\n",
    "\n",
    "init = tf.global_variables_initializer()"
   ]
  },
  {
   "cell_type": "code",
   "execution_count": 6,
   "metadata": {
    "collapsed": true
   },
   "outputs": [],
   "source": [
    "# X_all, Y_all = gen_data_batch(100000)"
   ]
  },
  {
   "cell_type": "code",
   "execution_count": 7,
   "metadata": {},
   "outputs": [
    {
     "name": "stdout",
     "output_type": "stream",
     "text": [
      "[1 1 1 0 0 0 1 0 0 0]\n",
      "[0 0 0 1 0 1 0 0 0 0]\n",
      "sum\n",
      "[1 1 1 1 0 1 1 0 0 0]\n"
     ]
    }
   ],
   "source": [
    "# X_batch, y_batch = gen_data()\n",
    "# print(X_batch[0].T[0])\n",
    "# print(X_batch[0].T[1])\n",
    "# print(\"sum\")\n",
    "# print(y_batch[0].T[0])"
   ]
  },
  {
   "cell_type": "code",
   "execution_count": 56,
   "metadata": {},
   "outputs": [
    {
     "name": "stdout",
     "output_type": "stream",
     "text": [
      "0 \tMSE: 0.315312\n",
      "0 \tMSE: 0.218505\n",
      "0 \tMSE: 0.207861\n",
      "0 \tMSE: 0.174188\n",
      "0 \tMSE: 0.115172\n",
      "0 \tMSE: 0.115688\n",
      "0 \tMSE: 0.10996\n",
      "0 \tMSE: 0.125371\n",
      "0 \tMSE: 0.1221\n",
      "0 \tMSE: 0.0946702\n",
      "0 \tMSE: 0.113816\n",
      "0 \tMSE: 0.12596\n",
      "0 \tMSE: 0.11944\n",
      "0 \tMSE: 0.0969933\n",
      "0 \tMSE: 0.0887123\n",
      "0 \tMSE: 0.114526\n",
      "0 \tMSE: 0.0970739\n",
      "0 \tMSE: 0.100872\n",
      "0 \tMSE: 0.102859\n",
      "0 \tMSE: 0.101766\n",
      "0 \tMSE: 0.118263\n",
      "0 \tMSE: 0.0987474\n",
      "0 \tMSE: 0.0996745\n",
      "0 \tMSE: 0.0965063\n",
      "0 \tMSE: 0.104891\n",
      "0 \tMSE: 0.0950817\n",
      "0 \tMSE: 0.0931288\n",
      "0 \tMSE: 0.0857615\n",
      "0 \tMSE: 0.0963412\n",
      "0 \tMSE: 0.0903998\n"
     ]
    }
   ],
   "source": [
    "# n_iterations = 60000\n",
    "batch_size   = 50\n",
    "n_epochs     = 30\n",
    "\n",
    "saver = tf.train.Saver()\n",
    "\n",
    "n_examples = 10000\n",
    "\n",
    "with tf.Session() as sess:\n",
    "    init.run()\n",
    "    \n",
    "    for epoch in range(n_epochs):\n",
    "        for iteration in range(n_examples // batch_size):\n",
    "            X_batch, y_batch = gen_data_batch(batch_size)\n",
    "        \n",
    "            sess.run(training_op, feed_dict={X: X_batch, y: y_batch})\n",
    "\n",
    "            if iteration % 1000 == 0:\n",
    "                mse = loss.eval(feed_dict={X: X_batch, y: y_batch})\n",
    "                print(iteration, \"\\tMSE:\", mse)\n",
    "\n",
    "#         break\n",
    "    saver.save(sess, \"./model\")"
   ]
  },
  {
   "cell_type": "code",
   "execution_count": 63,
   "metadata": {},
   "outputs": [
    {
     "name": "stdout",
     "output_type": "stream",
     "text": [
      "INFO:tensorflow:Restoring parameters from ./model\n",
      "[[[0 0]\n",
      "  [0 1]\n",
      "  [1 0]\n",
      "  [1 1]\n",
      "  [0 0]\n",
      "  [1 0]\n",
      "  [0 0]\n",
      "  [0 0]\n",
      "  [0 0]\n",
      "  [0 0]]]\n",
      "[ 0.  1.  1.  0.  1.  1.  0.  0.  0.  0.]\n",
      "[0 1 1 0 1 1 0 0 0 0]\n",
      "[ 0.  0.  0.  0.  0.  0.  0.  0.  0.  0.]\n"
     ]
    }
   ],
   "source": [
    "with tf.Session() as sess:\n",
    "    saver.restore(sess, \"./model\")\n",
    "    X_batch, y_batch = gen_data()\n",
    "    res = sm.eval(feed_dict={X: X_batch, y: y_batch})\n",
    "#     res = states.eval(feed_dict={X: X_batch, y: y_batch})\n",
    "#     print(res)\n",
    "    print(X_batch)\n",
    "    res[res>0.5] = 1\n",
    "    res[res<=0.5] = 0\n",
    "    print(reformat(res))\n",
    "    print(reformat(y_batch))\n",
    "    \n",
    "    print(reformat(res-y_batch))"
   ]
  }
 ],
 "metadata": {
  "kernelspec": {
   "display_name": "Python 3",
   "language": "python",
   "name": "python3"
  },
  "language_info": {
   "codemirror_mode": {
    "name": "ipython",
    "version": 3
   },
   "file_extension": ".py",
   "mimetype": "text/x-python",
   "name": "python",
   "nbconvert_exporter": "python",
   "pygments_lexer": "ipython3",
   "version": "3.5.2"
  }
 },
 "nbformat": 4,
 "nbformat_minor": 2
}
