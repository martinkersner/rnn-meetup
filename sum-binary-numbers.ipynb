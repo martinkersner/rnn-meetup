{
 "cells": [
  {
   "cell_type": "markdown",
   "metadata": {},
   "source": [
    "# Sum of two binary numbers using single cell RNN\n",
    "\n",
    "Martin Kersner, <m.kersner@gmail.com>\n",
    "\n",
    "2017/07/04"
   ]
  },
  {
   "cell_type": "code",
   "execution_count": 1,
   "metadata": {},
   "outputs": [],
   "source": [
    "import random\n",
    "import numpy as np\n",
    "import tensorflow as tf\n",
    "\n",
    "def reset_graph(seed=42):\n",
    "    tf.reset_default_graph()\n",
    "    tf.set_random_seed(seed)\n",
    "    np.random.seed(seed)"
   ]
  },
  {
   "cell_type": "code",
   "execution_count": 2,
   "metadata": {},
   "outputs": [],
   "source": [
    "def int2bin(i, length=10):\n",
    "    b = bin(i)[2:].zfill(length)\n",
    "    b_lst = [int(i) for i in b]\n",
    "    b_lst.reverse()\n",
    "    return np.array(b_lst)\n",
    "\n",
    "def bin2int(b, axis=0):\n",
    "    b_lst = list(b[0,:,axis])\n",
    "    b_lst.reverse()\n",
    "    b_str = \"\".join(str(int(i)) for i in b_lst)\n",
    "    return int(b_str, 2)\n",
    "\n",
    "def int2binABC(A, B, C, length=10):\n",
    "    return int2bin(A, length), int2bin(B, length), int2bin(C, length)\n",
    "\n",
    "def gen_data(func):\n",
    "    def inner(*args, **kwargs):\n",
    "        A, B = func(*args, **kwargs)\n",
    "        C = A+B\n",
    "        Ab, Bb, Cb = int2binABC(A, B, C)\n",
    "\n",
    "        X_batch = None\n",
    "        X_batch = np.vstack((Ab, Bb)).T\n",
    "        X_batch = X_batch[np.newaxis, :]\n",
    "        y_batch = Cb[np.newaxis, :, np.newaxis]\n",
    "        \n",
    "        return X_batch, y_batch\n",
    "    \n",
    "    return inner\n",
    "\n",
    "@gen_data\n",
    "def gen_given_data(A, B):\n",
    "    return A, B\n",
    "\n",
    "@gen_data\n",
    "def gen_random_data(max_val=100):\n",
    "    A = np.random.randint(max_val)\n",
    "    B = np.random.randint(max_val)\n",
    "    \n",
    "    return A, B\n",
    "\n",
    "def gen_dataset(length, binary_length=10):\n",
    "    X = np.zeros((length*length, binary_length,  2))\n",
    "    Y = np.zeros((length*length, binary_length, 1))    \n",
    "\n",
    "    idx = 0\n",
    "    for A in range(length):\n",
    "        for B in range(length):\n",
    "            C = A + B\n",
    "\n",
    "            Ab, Bb, Cb = int2binABC(A, B, C, binary_length)\n",
    "\n",
    "            X[idx] = np.vstack((Ab, Bb)).T\n",
    "            Y[idx] = Cb[:, np.newaxis]\n",
    "\n",
    "            idx += 1\n",
    "\n",
    "    return X, Y\n",
    "\n",
    "def split_train_test(X, Y, ratio=0.7):\n",
    "    length = X.shape[0]\n",
    "    \n",
    "    ran = range(length)\n",
    "    train_lst = random.sample(ran, int(ratio*length))\n",
    "    test_lst = list(set(ran)-set(train_lst))\n",
    "    \n",
    "    X_train = X[train_lst, :, :]\n",
    "    Y_train = Y[train_lst, :, :]\n",
    "    \n",
    "    X_test = X[test_lst, :, :]\n",
    "    Y_test = Y[test_lst, :, :]\n",
    "\n",
    "    return X_train, Y_train, X_test, Y_test"
   ]
  },
  {
   "cell_type": "markdown",
   "metadata": {},
   "source": [
    "## Generate dataset\n",
    "\n",
    "Dataset consist of numbers between 0 and 100 and their sums."
   ]
  },
  {
   "cell_type": "code",
   "execution_count": 4,
   "metadata": {},
   "outputs": [],
   "source": [
    "X_data, Y_data = gen_dataset(100)\n",
    "X_train, Y_train, X_test, Y_test = split_train_test(X_data, Y_data)"
   ]
  },
  {
   "cell_type": "code",
   "execution_count": 5,
   "metadata": {
    "scrolled": true
   },
   "outputs": [
    {
     "name": "stdout",
     "output_type": "stream",
     "text": [
      "7000\n",
      "3000\n"
     ]
    }
   ],
   "source": [
    "print(X_train.shape[0])\n",
    "print(X_test.shape[0])"
   ]
  },
  {
   "cell_type": "markdown",
   "metadata": {},
   "source": [
    "## Define RNN network"
   ]
  },
  {
   "cell_type": "code",
   "execution_count": 6,
   "metadata": {
    "collapsed": true
   },
   "outputs": [],
   "source": [
    "reset_graph()\n",
    "\n",
    "n_steps   = 10\n",
    "n_inputs  = 2\n",
    "n_outputs = 1\n",
    "n_neurons = 2\n",
    "\n",
    "X = tf.placeholder(tf.float32, [None, n_steps, n_inputs])\n",
    "y = tf.placeholder(tf.float32, [None, n_steps, n_outputs])\n",
    "\n",
    "# RNN cell\n",
    "cell = tf.contrib.rnn.OutputProjectionWrapper(\n",
    "    tf.contrib.rnn.BasicLSTMCell(num_units=n_neurons),\n",
    "    output_size=n_outputs)\n",
    "\n",
    "outputs, states = tf.nn.dynamic_rnn(cell, X, dtype=tf.float32)"
   ]
  },
  {
   "cell_type": "markdown",
   "metadata": {},
   "source": [
    "## Define loss function and optimizer"
   ]
  },
  {
   "cell_type": "code",
   "execution_count": 7,
   "metadata": {
    "collapsed": true
   },
   "outputs": [],
   "source": [
    "learning_rate = 0.01\n",
    "loss = tf.reduce_mean(tf.square(outputs-y))\n",
    "optimizer = tf.train.AdamOptimizer(learning_rate=learning_rate)\n",
    "training_op = optimizer.minimize(loss)\n",
    "\n",
    "init = tf.global_variables_initializer()"
   ]
  },
  {
   "cell_type": "markdown",
   "metadata": {},
   "source": [
    "## Train and evaluate"
   ]
  },
  {
   "cell_type": "code",
   "execution_count": 8,
   "metadata": {
    "scrolled": false
   },
   "outputs": [
    {
     "name": "stdout",
     "output_type": "stream",
     "text": [
      "train MSE: 0.169636\n",
      "train MSE: 0.140195\n",
      "train MSE: 0.125471\n",
      "train MSE: 0.112448\n",
      "train MSE: 0.0841567\n",
      "train MSE: 0.0572689\n",
      "train MSE: 0.0403855\n",
      "train MSE: 0.0325678\n",
      "train MSE: 0.0267467\n",
      "train MSE: 0.0208925\n",
      "train MSE: 0.0160548\n",
      "train MSE: 0.0128692\n",
      "train MSE: 0.0109229\n",
      "train MSE: 0.00973051\n",
      "train MSE: 0.00888625\n",
      "train MSE: 0.00811555\n",
      "train MSE: 0.0071786\n",
      "train MSE: 0.00614451\n",
      "train MSE: 0.00522879\n",
      "train MSE: 0.00446457\n",
      "train MSE: 0.00392218\n",
      "train MSE: 0.00355912\n",
      "train MSE: 0.00330773\n",
      "train MSE: 0.00312498\n",
      "train MSE: 0.00299092\n",
      "train MSE: 0.00289584\n",
      "train MSE: 0.00281169\n",
      "train MSE: 0.00272468\n",
      "train MSE: 0.00261835\n",
      "train MSE: 0.00252793\n",
      "train MSE: 0.00244976\n",
      "train MSE: 0.0023443\n",
      "train MSE: 0.00187947\n",
      "train MSE: 0.00145573\n",
      "train MSE: 0.00117625\n",
      "train MSE: 0.000955875\n",
      "test MSE:  0.00108109\n"
     ]
    }
   ],
   "source": [
    "batch_size   = 50\n",
    "n_epochs     = 80\n",
    "\n",
    "saver = tf.train.Saver()\n",
    "\n",
    "with tf.Session() as sess:\n",
    "    init.run()\n",
    "    \n",
    "    for epoch in range(n_epochs):\n",
    "        for iteration in range(X_train.shape[0] // batch_size):\n",
    "            X_batch = X_train[iteration*batch_size:(iteration*batch_size)+batch_size,:,:]\n",
    "            Y_batch = Y_train[iteration*batch_size:(iteration*batch_size)+batch_size,:,:]\n",
    "        \n",
    "            sess.run(training_op, feed_dict={X: X_batch, y: Y_batch})\n",
    "\n",
    "        mse = loss.eval(feed_dict={X: X_batch, y: Y_batch})\n",
    "        print(\"train MSE:\", mse)\n",
    "        \n",
    "        if mse < 0.001:\n",
    "            break\n",
    "\n",
    "    saver.save(sess, \"./model\")\n",
    "    \n",
    "    res = loss.eval(feed_dict={X: X_test, y: Y_test})\n",
    "    print(\"test MSE: \", res)"
   ]
  },
  {
   "cell_type": "markdown",
   "metadata": {},
   "source": [
    "## Test model"
   ]
  },
  {
   "cell_type": "code",
   "execution_count": 20,
   "metadata": {},
   "outputs": [
    {
     "name": "stdout",
     "output_type": "stream",
     "text": [
      "INFO:tensorflow:Restoring parameters from ./model\n",
      "A    4\n",
      "B    126\n",
      "SUM  130\n",
      "Correct\n"
     ]
    }
   ],
   "source": [
    "A = 4\n",
    "B = 126\n",
    "C = A+B\n",
    "\n",
    "with tf.Session() as sess:\n",
    "    saver.restore(sess, \"./model\")\n",
    "      \n",
    "    X_batch, y_batch = gen_given_data(A, B)\n",
    "    \n",
    "    binary_sum = outputs.eval(feed_dict={X: X_batch, y: y_batch})\n",
    "    \n",
    "    binary_sum[binary_sum > 0.5]  = 1\n",
    "    binary_sum[binary_sum <= 0.5] = 0\n",
    "    \n",
    "    int_sum = bin2int(binary_sum)\n",
    "    \n",
    "    print(\"A   \", bin2int(X_batch))\n",
    "    print(\"B   \", bin2int(X_batch, axis=1))\n",
    "    print(\"SUM \", int_sum)\n",
    "    \n",
    "    print(\"Correct\" if C == int_sum else \"Wrong\")"
   ]
  }
 ],
 "metadata": {
  "kernelspec": {
   "display_name": "Python 3",
   "language": "python",
   "name": "python3"
  },
  "language_info": {
   "codemirror_mode": {
    "name": "ipython",
    "version": 3
   },
   "file_extension": ".py",
   "mimetype": "text/x-python",
   "name": "python",
   "nbconvert_exporter": "python",
   "pygments_lexer": "ipython3",
   "version": "3.5.2"
  }
 },
 "nbformat": 4,
 "nbformat_minor": 2
}
