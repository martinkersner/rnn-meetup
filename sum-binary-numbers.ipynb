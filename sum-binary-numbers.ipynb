{
 "cells": [
  {
   "cell_type": "code",
   "execution_count": null,
   "metadata": {
    "collapsed": true
   },
   "outputs": [],
   "source": [
    "import numpy as np\n",
    "import tensorflow as tf\n",
    "\n",
    "# to make this notebook's output stable across runs\n",
    "def reset_graph(seed=42):\n",
    "    tf.reset_default_graph()\n",
    "    tf.set_random_seed(seed)\n",
    "    np.random.seed(seed)"
   ]
  },
  {
   "cell_type": "code",
   "execution_count": null,
   "metadata": {
    "collapsed": true
   },
   "outputs": [],
   "source": [
    "def int2bin(i):\n",
    "    b = bin(i)[2:].zfill(10)\n",
    "    return np.array([int(i) for i in b])\n",
    "\n",
    "def bin2in(s):\n",
    "    return int(s, 2)"
   ]
  },
  {
   "cell_type": "code",
   "execution_count": null,
   "metadata": {
    "collapsed": true
   },
   "outputs": [],
   "source": [
    "reset_graph()\n",
    "\n",
    "n_steps   = 10\n",
    "n_inputs  = 2\n",
    "n_neurons = 3\n",
    "n_outputs = 1\n",
    "\n",
    "X = tf.placeholder(tf.float32, [None, n_steps, n_inputs])\n",
    "y = tf.placeholder(tf.float32, [None, n_steps, n_outputs])\n",
    "cell = tf.contrib.rnn.OutputProjectionWrapper(\n",
    "    tf.contrib.rnn.BasicLSTMCell(num_units=n_neurons, activation=tf.nn.relu),\n",
    "    output_size=n_outputs)\n",
    "outputs, states = tf.nn.dynamic_rnn(cell, X, dtype=tf.float32)\n",
    "\n",
    "sm = tf.nn.sigmoid(outputs)\n",
    "\n",
    "init = tf.global_variables_initializer()"
   ]
  },
  {
   "cell_type": "code",
   "execution_count": null,
   "metadata": {
    "collapsed": true
   },
   "outputs": [],
   "source": [
    "learning_rate = 0.001\n",
    "\n",
    "loss = tf.reduce_mean(tf.square(sm-y))\n",
    "optimizer = tf.train.AdamOptimizer(learning_rate=learning_rate)\n",
    "training_op = optimizer.minimize(loss)\n",
    "\n",
    "init = tf.global_variables_initializer()"
   ]
  },
  {
   "cell_type": "code",
   "execution_count": null,
   "metadata": {
    "collapsed": true
   },
   "outputs": [],
   "source": [
    "def gen_data():\n",
    "    max_val = 100\n",
    "    A = np.random.randint(max_val)\n",
    "    B = np.random.randint(max_val)\n",
    "    C = A+B\n",
    "    Ab = int2bin(A)\n",
    "    Bb = int2bin(B)\n",
    "    Cb = int2bin(C)\n",
    "        \n",
    "    X_batch = None\n",
    "    X_batch = np.vstack((Ab, Bb)).T\n",
    "    X_batch = X_batch[np.newaxis, :]\n",
    "    y_batch = Cb[np.newaxis, :, np.newaxis]\n",
    "    \n",
    "    return X_batch, y_batch"
   ]
  },
  {
   "cell_type": "code",
   "execution_count": null,
   "metadata": {
    "collapsed": true
   },
   "outputs": [],
   "source": [
    "X_batch, y_batch = gen_data()\n",
    "print(X_batch[0].T[0])\n",
    "print(X_batch[0].T[1])\n",
    "print(\"sum\")\n",
    "print(y_batch[0].T[0])"
   ]
  },
  {
   "cell_type": "code",
   "execution_count": null,
   "metadata": {
    "collapsed": true
   },
   "outputs": [],
   "source": [
    "n_iterations = 60000\n",
    "# batch_size   = 50\n",
    "\n",
    "saver = tf.train.Saver()\n",
    "\n",
    "with tf.Session() as sess:\n",
    "    init.run()\n",
    "    for iteration in range(n_iterations):\n",
    "        X_batch, y_batch = gen_data()\n",
    "        \n",
    "        sess.run(training_op, feed_dict={X: X_batch, y: y_batch})\n",
    "\n",
    "        if iteration % 5000 == 0:\n",
    "            mse = loss.eval(feed_dict={X: X_batch, y: y_batch})\n",
    "            \n",
    "            print(iteration, \"\\tMSE:\", mse)\n",
    "    saver.save(sess, \"./model\")"
   ]
  },
  {
   "cell_type": "code",
   "execution_count": null,
   "metadata": {
    "collapsed": true
   },
   "outputs": [],
   "source": [
    "def reformat(tens):\n",
    "    return tens[0].T[0]"
   ]
  },
  {
   "cell_type": "code",
   "execution_count": null,
   "metadata": {
    "collapsed": true
   },
   "outputs": [],
   "source": [
    "with tf.Session() as sess:\n",
    "    saver.restore(sess, \"./model\")\n",
    "    X_batch, y_batch = gen_data()\n",
    "    res = sm.eval(feed_dict={X: X_batch, y: y_batch})\n",
    "#     res = states.eval(feed_dict={X: X_batch, y: y_batch})\n",
    "#     print(res)\n",
    "    res[res>0.5] = 1\n",
    "    res[res<=0.5] = 0\n",
    "    print(reformat(res))\n",
    "    print(reformat(y_batch))"
   ]
  }
 ],
 "metadata": {
  "kernelspec": {
   "display_name": "Python 3",
   "language": "python",
   "name": "python3"
  },
  "language_info": {
   "codemirror_mode": {
    "name": "ipython",
    "version": 3
   },
   "file_extension": ".py",
   "mimetype": "text/x-python",
   "name": "python",
   "nbconvert_exporter": "python",
   "pygments_lexer": "ipython3",
   "version": "3.6.2"
  }
 },
 "nbformat": 4,
 "nbformat_minor": 2
}
