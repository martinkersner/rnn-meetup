{
 "cells": [
  {
   "cell_type": "code",
   "execution_count": 1,
   "metadata": {
    "collapsed": true
   },
   "outputs": [],
   "source": [
    "import numpy as np\n",
    "import tensorflow as tf\n",
    "import random\n",
    "\n",
    "def reset_graph(seed=42):\n",
    "    tf.reset_default_graph()\n",
    "    tf.set_random_seed(seed)\n",
    "    np.random.seed(seed)"
   ]
  },
  {
   "cell_type": "code",
   "execution_count": 2,
   "metadata": {
    "collapsed": true
   },
   "outputs": [],
   "source": [
    "def reformat(tens):\n",
    "    return tens[0].T[0]"
   ]
  },
  {
   "cell_type": "code",
   "execution_count": 3,
   "metadata": {
    "collapsed": true
   },
   "outputs": [],
   "source": [
    "def int2bin(i, length=10):\n",
    "    b = bin(i)[2:].zfill(length)\n",
    "    b_lst = [int(i) for i in b]\n",
    "    b_lst.reverse()\n",
    "    return np.array(b_lst)\n",
    "\n",
    "def bin2in(s):\n",
    "    return int(s, 2)"
   ]
  },
  {
   "cell_type": "code",
   "execution_count": 4,
   "metadata": {
    "collapsed": true
   },
   "outputs": [],
   "source": [
    "def gen_data():\n",
    "    max_val = 100\n",
    "    A = np.random.randint(max_val)\n",
    "    B = np.random.randint(max_val)\n",
    "    C = A+B\n",
    "    Ab = int2bin(A)\n",
    "    Bb = int2bin(B)\n",
    "    Cb = int2bin(C)\n",
    "        \n",
    "    X_batch = None\n",
    "    X_batch = np.vstack((Ab, Bb)).T\n",
    "    X_batch = X_batch[np.newaxis, :]\n",
    "    y_batch = Cb[np.newaxis, :, np.newaxis]\n",
    "    \n",
    "    return X_batch, y_batch\n",
    "\n",
    "# def gen_data_batch(length):\n",
    "#     bin_len = 10\n",
    "    \n",
    "#     A_lst = [int(i) for i in list(np.random.rand(length)*100)]\n",
    "#     B_lst = [int(i) for i in list(np.random.rand(length)*100)]\n",
    "#     C_lst = []\n",
    "    \n",
    "#     X = np.zeros((length, bin_len, 2))\n",
    "#     Y = np.zeros((length, bin_len, 1))\n",
    "    \n",
    "#     for idx, (a, b) in enumerate(zip(A_lst, B_lst)):\n",
    "#         c = a+b\n",
    "        \n",
    "#         Ab = int2bin(a, bin_len)\n",
    "#         Bb = int2bin(b, bin_len)\n",
    "#         Cb = int2bin(c, bin_len)\n",
    "        \n",
    "#         X[idx] = np.vstack((Ab, Bb)).T\n",
    "#         Y[idx] = Cb[:, np.newaxis]\n",
    "        \n",
    "#     return X, Y"
   ]
  },
  {
   "cell_type": "code",
   "execution_count": 35,
   "metadata": {
    "collapsed": true
   },
   "outputs": [],
   "source": [
    "def split_train_test(X, Y, ratio=0.7):\n",
    "    length = X.shape[0]\n",
    "    \n",
    "    ran = range(length)\n",
    "    train_lst = random.sample(ran, int(ratio*length))\n",
    "    test_lst = list(set(ran)-set(train_lst))\n",
    "    \n",
    "    X_train = X[train_lst, :, :]\n",
    "    Y_train = Y[train_lst, :, :]\n",
    "    \n",
    "    X_test = X[test_lst, :, :]\n",
    "    Y_test = Y[test_lst, :, :]\n",
    "\n",
    "    return X_train, Y_train, X_test, Y_test"
   ]
  },
  {
   "cell_type": "code",
   "execution_count": 6,
   "metadata": {},
   "outputs": [],
   "source": [
    "def gen_dataset(length):\n",
    "    bin_len    = 10\n",
    "\n",
    "    X = np.zeros((length*length, bin_len,  2))\n",
    "    Y = np.zeros((length*length, bin_len, 1))    \n",
    "\n",
    "    idx = 0\n",
    "    for a in range(length):\n",
    "        for b in range(length):\n",
    "            c = a + b\n",
    "\n",
    "            Ab = int2bin(a, bin_len)\n",
    "            Bb = int2bin(b, bin_len)\n",
    "            Cb = int2bin(c, bin_len)\n",
    "\n",
    "            X[idx] = np.vstack((Ab, Bb)).T\n",
    "            Y[idx] = Cb[:, np.newaxis]\n",
    "\n",
    "            idx += 1\n",
    "    return X, Y"
   ]
  },
  {
   "cell_type": "code",
   "execution_count": 7,
   "metadata": {
    "collapsed": true
   },
   "outputs": [],
   "source": [
    "reset_graph()\n",
    "\n",
    "n_steps   = 10\n",
    "n_inputs  = 2\n",
    "n_outputs = 1\n",
    "n_neurons = 2\n",
    "\n",
    "X = tf.placeholder(tf.float32, [None, n_steps, n_inputs])\n",
    "y = tf.placeholder(tf.float32, [None, n_steps, n_outputs])\n",
    "\n",
    "cell = tf.contrib.rnn.OutputProjectionWrapper(\n",
    "    tf.contrib.rnn.BasicLSTMCell(num_units=n_neurons),\n",
    "    output_size=n_outputs)\n",
    "outputs, states = tf.nn.dynamic_rnn(cell, X, dtype=tf.float32)\n",
    "\n",
    "sm = outputs\n",
    "# sm = tf.nn.sigmoid(outputs)\n",
    "\n",
    "init = tf.global_variables_initializer()"
   ]
  },
  {
   "cell_type": "code",
   "execution_count": 8,
   "metadata": {
    "collapsed": true
   },
   "outputs": [],
   "source": [
    "# learning_rate = 0.0001\n",
    "# learning_rate = 0.001\n",
    "learning_rate = 0.01\n",
    "\n",
    "loss = tf.reduce_mean(tf.square(sm-y))\n",
    "optimizer = tf.train.AdamOptimizer(learning_rate=learning_rate)\n",
    "training_op = optimizer.minimize(loss)\n",
    "\n",
    "init = tf.global_variables_initializer()"
   ]
  },
  {
   "cell_type": "code",
   "execution_count": 9,
   "metadata": {},
   "outputs": [],
   "source": [
    "X_data, Y_data = gen_dataset(100)"
   ]
  },
  {
   "cell_type": "code",
   "execution_count": 36,
   "metadata": {},
   "outputs": [],
   "source": [
    "X_train, Y_train, X_test, Y_test = split_train_test(X_data, Y_data)"
   ]
  },
  {
   "cell_type": "code",
   "execution_count": 38,
   "metadata": {},
   "outputs": [
    {
     "name": "stdout",
     "output_type": "stream",
     "text": [
      "7000\n",
      "3000\n"
     ]
    }
   ],
   "source": [
    "print(X_train.shape[0])\n",
    "print(X_test.shape[0])"
   ]
  },
  {
   "cell_type": "code",
   "execution_count": 44,
   "metadata": {},
   "outputs": [
    {
     "name": "stdout",
     "output_type": "stream",
     "text": [
      "\tMSE: 0.167542\n",
      "\tMSE: 0.142198\n",
      "\tMSE: 0.127741\n",
      "\tMSE: 0.113546\n",
      "\tMSE: 0.0826294\n",
      "\tMSE: 0.0631074\n",
      "\tMSE: 0.0490109\n",
      "\tMSE: 0.0401143\n",
      "\tMSE: 0.0325874\n",
      "\tMSE: 0.025678\n",
      "\tMSE: 0.0198152\n",
      "\tMSE: 0.015708\n",
      "\tMSE: 0.0130245\n",
      "\tMSE: 0.0112154\n",
      "\tMSE: 0.00991532\n",
      "\tMSE: 0.00888578\n",
      "\tMSE: 0.00800931\n",
      "\tMSE: 0.00721572\n",
      "\tMSE: 0.0064154\n",
      "\tMSE: 0.00556825\n",
      "\tMSE: 0.00477542\n",
      "\tMSE: 0.00413362\n",
      "\tMSE: 0.00365089\n",
      "\tMSE: 0.00329099\n",
      "\tMSE: 0.00304312\n",
      "\tMSE: 0.00290834\n",
      "\tMSE: 0.00280789\n",
      "\tMSE: 0.00271712\n",
      "\tMSE: 0.00264475\n",
      "\tMSE: 0.00260176\n",
      "\tMSE: 0.00255554\n",
      "\tMSE: 0.00249489\n",
      "\tMSE: 0.00217332\n",
      "\tMSE: 0.00171452\n",
      "\tMSE: 0.00140336\n",
      "\tMSE: 0.00114668\n",
      "\tMSE: 0.000951175\n",
      "test:  0.000938521\n"
     ]
    }
   ],
   "source": [
    "batch_size   = 50\n",
    "n_epochs     = 80\n",
    "\n",
    "saver = tf.train.Saver()\n",
    "\n",
    "n_examples = X_train.shape[0]\n",
    "\n",
    "with tf.Session() as sess:\n",
    "    init.run()\n",
    "    \n",
    "    for epoch in range(n_epochs):\n",
    "        for iteration in range(n_examples // batch_size):\n",
    "            X_batch = X_train[iteration*batch_size:(iteration*batch_size)+batch_size,:,:]\n",
    "            Y_batch = Y_train[iteration*batch_size:(iteration*batch_size)+batch_size,:,:]\n",
    "        \n",
    "#             print(X_batch)\n",
    "#             print(Y_batch)\n",
    "            sess.run(training_op, feed_dict={X: X_batch, y: Y_batch})\n",
    "\n",
    "        mse = loss.eval(feed_dict={X: X_batch, y: Y_batch})\n",
    "        print(\"\\tMSE:\", mse)\n",
    "        \n",
    "        if mse < 0.001:\n",
    "            break\n",
    "\n",
    "    saver.save(sess, \"./model\")\n",
    "    \n",
    "    res = loss.eval(feed_dict={X: X_test, y: Y_test})\n",
    "    print(\"test: \", res)"
   ]
  },
  {
   "cell_type": "code",
   "execution_count": 12,
   "metadata": {},
   "outputs": [
    {
     "name": "stdout",
     "output_type": "stream",
     "text": [
      "INFO:tensorflow:Restoring parameters from ./model\n",
      "[1 1 0 0 1 1 0 0 0 0]\n",
      "[0 0 1 1 1 0 1 0 0 0]\n",
      "[1 1 1 1 0 0 0 1 0 0]\n",
      "[[[ 0.99898434]\n",
      "  [ 0.99723959]\n",
      "  [ 0.99833727]\n",
      "  [ 1.0055089 ]\n",
      "  [-0.02557755]\n",
      "  [ 0.01402092]\n",
      "  [ 0.06058431]\n",
      "  [ 0.9470644 ]\n",
      "  [-0.00574255]\n",
      "  [ 0.00157905]]]\n",
      "prediction errors\n",
      "[ 0.  0.  0.  0.  0.  0.  0.  0.  0.  0.]\n"
     ]
    }
   ],
   "source": [
    "with tf.Session() as sess:\n",
    "    saver.restore(sess, \"./model\")\n",
    "    X_batch, y_batch = gen_data()\n",
    "    res = sm.eval(feed_dict={X: X_batch, y: y_batch})\n",
    "#     res = states.eval(feed_dict={X: X_batch, y: y_batch})\n",
    "#     print(res)\n",
    "    print(X_batch[0,:,0])\n",
    "    print(X_batch[0,:,1])\n",
    "    print(reformat(y_batch))\n",
    "    \n",
    "    print(res)\n",
    "    res[res>0.5] = 1\n",
    "    res[res<=0.5] = 0\n",
    "    \n",
    "    print(\"prediction errors\")\n",
    "    \n",
    "    print(reformat(res-y_batch))"
   ]
  }
 ],
 "metadata": {
  "kernelspec": {
   "display_name": "Python 3",
   "language": "python",
   "name": "python3"
  },
  "language_info": {
   "codemirror_mode": {
    "name": "ipython",
    "version": 3
   },
   "file_extension": ".py",
   "mimetype": "text/x-python",
   "name": "python",
   "nbconvert_exporter": "python",
   "pygments_lexer": "ipython3",
   "version": "3.6.2"
  }
 },
 "nbformat": 4,
 "nbformat_minor": 2
}
